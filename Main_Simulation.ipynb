{
 "cells": [
  {
   "cell_type": "markdown",
   "id": "eac2274b",
   "metadata": {},
   "source": [
    "# Preamble"
   ]
  },
  {
   "cell_type": "code",
   "execution_count": 1,
   "id": "ae11f252",
   "metadata": {},
   "outputs": [],
   "source": [
    "import numpy as np\n",
    "import matplotlib.pyplot as plt\n",
    "from joblib import Parallel, delayed\n",
    "import time\n",
    "import csv\n",
    "import math"
   ]
  },
  {
   "cell_type": "markdown",
   "id": "a68fde75",
   "metadata": {},
   "source": [
    "The function \"choose_LEEM_type\" allows one to choose different LEEM parameters and define them globally. To customize the parameters, edit the function.\n",
    "\n",
    "Input: __LEEM_type__ and __aberration_corrected__.\n",
    "\n",
    "Output: Globally defined set of parameters. \n",
    "\n",
    "|Variable|Parameter|\n",
    "|---|---|\n",
    "|__LEEM_type__|Choose \"IBM\" or customize using \"Energy dependent\"|\n",
    "|__aberration_corrected__|Boolean|\n",
    "|E|Accelerating Energy|\n",
    "|E_0|Energy at surface|\n",
    "|lamda|wavelength after acceleration|\n",
    "|lamda_0|wavelength at surface|\n",
    "|C_c|2nd rank chromatic aberation coefficient|\n",
    "|C_cc|3rd rank chromatic aberation coefficient|\n",
    "|C_3c|4th rank chromatic aberation coefficient|\n",
    "|C_3|3rd order spherical aberration coefficient|\n",
    "|C_5|5th order spherical aberration coefficient|\n",
    "|alpha_ap|Aperature angle|\n",
    "|alpha_ill|Illumination angle| \n",
    "|delta_E|Energy spread of the input Gaussian beam|\n",
    "|M_L|Magnification|\n",
    "|q_ill|Illuminating wave number|\n",
    "|q_ap|Wave number limited by the aperture|"
   ]
  },
  {
   "cell_type": "code",
   "execution_count": 12,
   "id": "3c0c1379",
   "metadata": {},
   "outputs": [],
   "source": [
    "def choose_LEEM_type(LEEM_type_str, aberration_corrected_bool = False):\n",
    "    global E, E_0, C_c, C_cc, C_3c, C_3, C_5, alpha_ap, alpha_ill, \\\n",
    "        delta_E, M_L, lamda, lamda_0, q_ill, q_ap, LEEM_type, aberration_corrected\n",
    "    LEEM_type = LEEM_type_str\n",
    "    aberration_corrected = aberration_corrected_bool\n",
    "    \n",
    "    if LEEM_type == \"IBM\":\n",
    "        if aberration_corrected == False:\n",
    "            E = 15010  # eV  Nominal Energy After Acceleration\n",
    "            E_0 = 10  # eV  Energy at the sample\n",
    "            \n",
    "            C_c = -0.075  # m  Second Rank Chromatic Aberration Coefficient\n",
    "            C_cc = 23.09 # m   Third Rank Chromatic Aberration Coefficient\n",
    "            C_3c = -59.37  # m   Forth Rank Chromatic Aberration Coefficient\n",
    "            \n",
    "            C_3 = 0.345  # m  Third Order Spherical Aberration Coefficient\n",
    "            C_5 = 39.4  # m  Fifth Order Spherical Aberration Coefficient\n",
    "            \n",
    "            alpha_ap = 2.34e-3  # rad Aperture angle\n",
    "            alpha_ill = 0.1e-3  # rad Illumination Divergence Angle\n",
    "            \n",
    "            delta_E = 0.25  # eV  Energy Spread\n",
    "            M_L = 0.653  # Lateral Magnification\n",
    "            \n",
    "        elif aberration_corrected == True:\n",
    "            E = 15010  # eV  Nominal Energy After Acceleration\n",
    "            E_0 = 10  # eV  Energy at the sample\n",
    "            \n",
    "            C_c = 0  # m   Second Rank Chromatic Aberration Coefficient\n",
    "            C_cc = 27.9 # m   Third Rank Chromatic Aberration Coefficient\n",
    "            C_3c = -67.4 # m   Forth Rank Chromatic Aberration Coefficient\n",
    "            \n",
    "            C_3 = 0  # m   Spherical Aberration Coefficient\n",
    "            C_5 = 92.8\n",
    "        \n",
    "            alpha_ap = 7.37e-3  # rad Aperture angle\n",
    "            alpha_ill = 0.1e-3  # rad Illumination Divergence Angle\n",
    "        \n",
    "            delta_E = 0.25  # eV  Energy Spread\n",
    "            M_L = 0.653  # Lateral Magnification\n",
    "            \n",
    "        lamda = 6.6261e-34 / np.sqrt(2 * 1.6022e-19 * 9.1095e-31 * E)\n",
    "        lamda_0 = 6.6261e-34 / np.sqrt(2 * 1.6022e-19 * 9.1095e-31 * E_0)\n",
    "    \n",
    "        q_ap = alpha_ap/lamda\n",
    "        q_ill = alpha_ill/lamda\n",
    "        \n",
    "    elif LEEM_type == \"Energy dependent\":\n",
    "        if aberration_corrected == False:\n",
    "            E = 15010  # eV  Nominal Energy After Acceleration\n",
    "            E_0 = 20 # eV  Energy at the sample ##########CUSTOMIZABLE INPUT##########\n",
    "            kappa = np.sqrt(E/E_0)\n",
    "            \n",
    "            C_c = -0.0121 * kappa**(1/2) + 0.0029 # m  Second Rank Chromatic Aberration Coefficient\n",
    "            C_cc = 0.5918 * kappa**(3/2) - 87.063 # m   Third Rank Chromatic Aberration Coefficient\n",
    "            C_3c = -1.2141 * kappa**(3/2) + 169.41  # m   Forth Rank Chromatic Aberration Coefficient\n",
    "            \n",
    "            C_3 = 0.0297 * kappa**(1/2) + 0.1626  # m  Third Order Spherical Aberration Coefficient\n",
    "            C_5 = 0.6223 * kappa**(3/2) - 79.305  # m  Fifth Order Spherical Aberration Coefficient\n",
    "            \n",
    "            delta_E = 0.25  # eV  Energy Spread\n",
    "            alpha_ill = 0.1e-3  # rad Illumination divergence angle\n",
    "            M_L = 0.653  # Lateral Magnification\n",
    "            \n",
    "            lamda = 6.6261e-34 / np.sqrt(2 * 1.6022e-19 * 9.1095e-31 * E) # in metre\n",
    "            alpha_ap = (lamda/C_3)**(1/4) # rad Aperture angle for optimal resolution\n",
    "            \n",
    "        if aberration_corrected == True:\n",
    "            E = 15010  # eV  Nominal Energy After Acceleration\n",
    "            E_0 = 20 # eV  Energy at the sample\n",
    "            kappa = np.sqrt(E/E_0)\n",
    "            \n",
    "            C_c = 0 # m  Second Rank Chromatic Aberration Coefficient\n",
    "            C_cc = 0.5984 * kappa**(3/2) - 84.002 # m   Third Rank Chromatic Aberration Coefficient \n",
    "            C_3c = -1.1652 * kappa**(3/2) + 153.58  # m   Forth Rank Chromatic Aberration Coefficient  \n",
    "            \n",
    "            C_3 = 0  # m  Third Order Spherical Aberration Coefficient\n",
    "            C_5 = 0.5624 * kappa**(3/2) - 16.541  # m  Fifth Order Spherical Aberration Coefficient\n",
    "            \n",
    "            delta_E = 0.25  # eV  Energy Spread\n",
    "            alpha_ill = 0.1e-3  # rad Illumination divergence angle\n",
    "            M_L = 0.653  # Lateral Magnification\n",
    "            \n",
    "            lamda = 6.6261e-34 / np.sqrt(2 * 1.6022e-19 * 9.1095e-31 * E) # in metre\n",
    "            alpha_ap = (3/2*lamda/C_5)**(1/6) # rad Aperture angle for optimal resolution \n",
    "        \n",
    "        lamda_0 = 6.6261e-34 / np.sqrt(2 * 1.6022e-19 * 9.1095e-31 * E_0) # in metre\n",
    "        \n",
    "        q_ap = alpha_ap/lamda\n",
    "        q_ill = alpha_ill/lamda"
   ]
  },
  {
   "cell_type": "markdown",
   "id": "c3f49076",
   "metadata": {},
   "source": [
    "A function to set different defocus values"
   ]
  },
  {
   "cell_type": "code",
   "execution_count": 13,
   "id": "3f0ca8b3",
   "metadata": {},
   "outputs": [],
   "source": [
    "def choose_defocus(defocus_type, value = 0):\n",
    "    if defocus_type == \"In-focus\":\n",
    "        delta_z = 0\n",
    "    elif defocus_type == \"Scherzer defocus\":\n",
    "        delta_z = np.sqrt(3/2*C_3*lamda)\n",
    "    elif defocus_type == \"A-Phi Scherzer defocus\":\n",
    "        delta_z = np.sqrt(9/64*C_5*lamda**2)\n",
    "    elif defocus_type == \"custom\":\n",
    "        delta_z = value\n",
    "    return delta_z"
   ]
  },
  {
   "cell_type": "markdown",
   "id": "0704bf11",
   "metadata": {},
   "source": [
    "A function to choose different sample object functions\n",
    "\n",
    "    \"\"\"\n",
    "    :param object_type_str: Type of object, can take \"Step amplitude object\", \"Step phase object\" \n",
    "    :param k: phase of object if it is of type \"Step phase object\"\n",
    "    \"\"\""
   ]
  },
  {
   "cell_type": "code",
   "execution_count": 14,
   "id": "18b69fc0",
   "metadata": {},
   "outputs": [],
   "source": [
    "def create_object(object_type_str, k = 1):\n",
    "    global object_type, object_function, object_amplitude, object_phase\n",
    "    object_type = object_type_str\n",
    "    if object_type == \"Step amplitude object\":\n",
    "    # Creating an 1:1/sqrt(2) step amplitude object whose phase is uniformly set to 0\n",
    "        object_phase = np.zeros_like(x_array)\n",
    "        \n",
    "        object_amplitude = np.ones_like(x_array)\n",
    "        \n",
    "        for counter, element in enumerate(x_array):\n",
    "            if element > 0:\n",
    "                object_amplitude[counter] = 1/np.sqrt(2)\n",
    "    \n",
    "    if object_type == \"Step phase object\":\n",
    "    # Creating a k.pi step phase object whose amplitude is uniformly set to 1        \n",
    "        object_amplitude = np.ones_like(x_array)\n",
    "        \n",
    "        object_phase = np.zeros_like(x_array)\n",
    "        \n",
    "        for counter, element in enumerate(x_array):\n",
    "            if element > 0:\n",
    "                object_phase[counter] = k * np.pi\n",
    "     \n",
    "    # Object function\n",
    "    object_function = np.multiply(object_amplitude, np.exp(1j * object_phase))\n"
   ]
  },
  {
   "cell_type": "markdown",
   "id": "9a42f0c3",
   "metadata": {},
   "source": [
    "Setup for the simulation"
   ]
  },
  {
   "cell_type": "code",
   "execution_count": 21,
   "id": "f43dd427",
   "metadata": {},
   "outputs": [],
   "source": [
    "object_size = 400               # simulating object size in nm\n",
    "simulating_steps = 1 + 2**12   # total simulating steps\n",
    "# An array of points in the x space\n",
    "x_array = (np.linspace(-object_size/2, object_size/2, simulating_steps) + object_size/simulating_steps)*1e-9\n",
    "\n",
    "# choose parameters\n",
    "choose_LEEM_type(\"IBM\", aberration_corrected_bool = False)\n",
    "\n",
    "# choose defocus\n",
    "delta_z = choose_defocus(\"In-focus\")\n",
    "\n",
    "# create object\n",
    "create_object(\"Step phase object\", k = 1)\n",
    "\n",
    "# The object image is reversed through the lens\n",
    "object_function_reversed = object_function[::-1] "
   ]
  },
  {
   "cell_type": "code",
   "execution_count": 22,
   "id": "949417b8",
   "metadata": {},
   "outputs": [],
   "source": [
    "# Choose the series of aperture angles\n",
    "alpha_ap_series = np.array([2.34*1e-3])\n",
    "q_ap_series = alpha_ap_series/lamda\n"
   ]
  },
  {
   "cell_type": "code",
   "execution_count": 23,
   "id": "3055b8fa",
   "metadata": {},
   "outputs": [],
   "source": [
    "# Initialising the series of function I(x) at different values of q_ap\n",
    "matrixI = np.zeros((len(x_array), len(q_ap_series)), dtype=complex)"
   ]
  },
  {
   "cell_type": "markdown",
   "id": "7f6a0392",
   "metadata": {},
   "source": [
    "Main function to simulate the object for the series of aperture angles"
   ]
  },
  {
   "cell_type": "code",
   "execution_count": 24,
   "id": "04f4a725",
   "metadata": {},
   "outputs": [],
   "source": [
    "def FO1D(q_ap, q_ap_index):    \n",
    "    # The Fourier Transform of the Object Wave Function\n",
    "    F_object_function = np.fft.fft(object_function_reversed, simulating_steps) * (1 / simulating_steps)\n",
    "    # Shifting this to the centre at 0\n",
    "    F_object_function = np.fft.fftshift(F_object_function)\n",
    "    # An array of points in the q space, in SI unit\n",
    "    q = 1 / (simulating_steps* (x_array[1] - x_array[0])) * np.arange(0, simulating_steps, 1)\n",
    "    # Shifting the q array to centre at 0 \n",
    "    q = q - np.max(q) / 2\n",
    "    \n",
    "    # Taking into account the effect of the contrast aperture    \n",
    "    a = np.sum(np.abs(q) <= q_ap)\n",
    "    if len(q) > a:\n",
    "        min_index = int(np.ceil(simulating_steps / 2 + 1 - (a - 1) / 2))\n",
    "        max_index = int(np.floor(simulating_steps / 2 + 1 + (a + 1) / 2))\n",
    "        q = q[min_index:max_index]\n",
    "        F_object_function = F_object_function[min_index:max_index]\n",
    "        \n",
    "    # Arrays for the calculation of the double integration \n",
    "    Q, QQ = np.meshgrid(q, q)\n",
    "    F_obj_q, F_obj_qq = np.meshgrid(F_object_function, np.conj(F_object_function))\n",
    "    \n",
    "    # The modifying function of zeroth-order\n",
    "    R_0 = np.exp(1j*2*np.pi*(C_3*lamda**3 * (Q**4 - QQ**4)/4 + C_5*lamda**5 *(\n",
    "        Q**6 - QQ**6)/6 - 1/2*delta_z*lamda*(Q**2 - QQ**2)))\n",
    "    \n",
    "    # The envelop function by source extension\n",
    "    E_s = np.exp(-np.pi**2/(4*np.log(2)) * q_ill**2 * (C_3*lamda**3 *(\n",
    "        Q**3 - QQ**3) + C_5*lamda**5 * (Q**5 - QQ**5) - delta_z*lamda*(Q - QQ))**2)\n",
    "    \n",
    "    # The envelop function by energy spread\n",
    "    E_cc = (1 - 1j * np.pi/(4*np.log(2)) * C_cc*(delta_E/E)**2 * lamda * (Q**2 - QQ**2))**(-1/2)\n",
    "    E_ct = E_cc * np.exp(-E_cc**2 * np.pi**2/(16*np.log(2)) * (delta_E/E)**2 * (C_c * lamda * (Q**2 - QQ**2) + 1/2*C_3c*lamda**3 * (Q**4 - QQ**4))**2)\n",
    "    \n",
    "    AR = np.multiply(np.multiply(np.multiply(np.multiply(F_obj_q, F_obj_qq), R_0), E_s), E_ct)\n",
    "    for i in range(len(q)):\n",
    "        for j in range(i + 1, len(q)):\n",
    "            matrixI[:, q_ap_index] = matrixI[:, q_ap_index] + 2 * (\n",
    "                    AR[j][i] * np.exp(1j * 2 * np.pi * (Q[j][i] - QQ[j][i]) * x_array)).real\n",
    "        \n",
    "\n",
    "    matrixI[:, q_ap_index] = matrixI[:, q_ap_index] + np.trace(AR) * np.ones_like(x_array)\n",
    "\n",
    "    return matrixI"
   ]
  },
  {
   "cell_type": "markdown",
   "id": "f6187e88",
   "metadata": {},
   "source": [
    "# Simulation"
   ]
  },
  {
   "cell_type": "code",
   "execution_count": 25,
   "id": "e279a644",
   "metadata": {},
   "outputs": [
    {
     "name": "stdout",
     "output_type": "stream",
     "text": [
      "Simulation start.\n",
      "[Parallel(n_jobs=-1)]: Using backend LokyBackend with 8 concurrent workers.\n",
      "[Parallel(n_jobs=-1)]: Done   1 tasks      | elapsed:    5.8s\n",
      "[Parallel(n_jobs=-1)]: Done   1 out of   1 | elapsed:    5.8s finished\n",
      "Simulation finished.\n",
      "Total time: 0.098 minutes\n"
     ]
    }
   ],
   "source": [
    "print(\"Simulation start.\")\n",
    "t_0 = time.time()\n",
    "\n",
    "with Parallel(n_jobs=-1, verbose=50, max_nbytes=\"50M\") as parallel:\n",
    "    parallelResult = parallel(delayed(FO1D)(q_ap, q_ap_index) for q_ap_index, q_ap in enumerate(q_ap_series))\n",
    "\n",
    "for mat in parallelResult:\n",
    "    matrixI = matrixI + mat\n",
    "\n",
    "matrixI = np.abs(matrixI)\n",
    "\n",
    "print('Simulation finished.')\n",
    "t_1 = time.time()\n",
    "\n",
    "print('Total time: ' + str(round((t_1-t_0)/60, 3)) + ' minutes')"
   ]
  },
  {
   "cell_type": "markdown",
   "id": "adba0910",
   "metadata": {},
   "source": [
    "# Result Analysis"
   ]
  },
  {
   "cell_type": "markdown",
   "id": "0cf5c8bd",
   "metadata": {},
   "source": [
    "Plotting the simulated images"
   ]
  },
  {
   "cell_type": "code",
   "execution_count": 31,
   "id": "a88dd3ee",
   "metadata": {},
   "outputs": [
    {
     "data": {
      "image/png": "[encoded data removed]",
      "text/plain": [
       "<Figure size 432x288 with 1 Axes>"
      ]
     },
     "metadata": {
      "needs_background": "light"
     },
     "output_type": "display_data"
    }
   ],
   "source": [
    "for i in range(len(alpha_ap_series)):\n",
    "    plt.plot(x_array, matrixI[:, i])\n",
    "    plt.xlim(-20e-9, 20e-9)\n",
    "    plt.xlabel('Position x (m)')\n",
    "    plt.ylabel('Instensity')\n",
    "    plt.title('I(x)')\n",
    "    \n",
    "    plt.show()"
   ]
  },
  {
   "cell_type": "markdown",
   "id": "c08dc2bb",
   "metadata": {},
   "source": [
    "Find the resolution"
   ]
  },
  {
   "cell_type": "code",
   "execution_count": 33,
   "id": "1e483996",
   "metadata": {},
   "outputs": [
    {
     "data": {
      "text/plain": [
       "[2.24609375e-09]"
      ]
     },
     "execution_count": 33,
     "metadata": {},
     "output_type": "execute_result"
    }
   ],
   "source": [
    "# Create a list of resolutions corresponding to different aperture angles\n",
    "resolution_list = []\n",
    "for i in range(len(alpha_ap_series)):\n",
    "    matrixI_i = matrixI[:, i]\n",
    "    \n",
    "    if object_type == \"Step amplitude object\" or object_type == \"Error function amplitude object\":\n",
    "        half_steps = int(simulating_steps/2)\n",
    "        # Starting from the centre and find the local minimum to the right of the central point\n",
    "        I_min = matrixI_i[half_steps]\n",
    "        for j in range(1, half_steps):\n",
    "            if matrixI_i[half_steps+j] < I_min:\n",
    "                I_min = matrixI_i[half_steps+j]\n",
    "            else:\n",
    "                idx_min = half_steps+j-1\n",
    "                break\n",
    "            \n",
    "        # Starting from the centre and find the local maximum to the left of the central point\n",
    "        I_max = matrixI_i[half_steps]\n",
    "        for j in range(1, half_steps):\n",
    "            if matrixI_i[half_steps-j] > I_max:\n",
    "                I_max = matrixI_i[half_steps-j]            \n",
    "            else:\n",
    "                idx_max = half_steps-j+1\n",
    "                break\n",
    "            \n",
    "        \n",
    "        # The region of interest to find the resolution\n",
    "        x_array_focus = x_array[idx_max:idx_min]\n",
    "        matrixI_focus = matrixI_i[idx_max:idx_min]\n",
    "        \n",
    "        I_100_index = np.argmin(np.abs(matrixI_focus - 1))\n",
    "        I_100 = matrixI_focus[I_100_index]\n",
    "        I_0_index = np.argmin(np.abs(matrixI_focus - 1/2))\n",
    "        I_0 = matrixI_focus[I_0_index]\n",
    "        \n",
    "        I_84 = I_0 + (I_100 - I_0)*84/100\n",
    "        I_16 = I_0 + (I_100 - I_0)*16/100\n",
    "        \n",
    "        I_84_index = np.argmin(np.abs(matrixI_focus - I_84))\n",
    "        x_84 = x_array_focus[I_84_index]\n",
    "        I_16_index = np.argmin(np.abs(matrixI_focus - I_16))\n",
    "        x_16 = x_array_focus[I_16_index]\n",
    "        resolution_i = x_16 - x_84\n",
    "    \n",
    "    if object_type == \"Step phase object\" or object_type == \"Error function phase object\":\n",
    "        # Finding the local minimum around the central point\n",
    "        half_steps = int(simulating_steps/2)\n",
    "        I_min = matrixI_i[half_steps]\n",
    "        for j in range(1, half_steps):\n",
    "            if matrixI_i[half_steps+j] < I_min:\n",
    "                I_min = matrixI_i[half_steps+j]\n",
    "            else:\n",
    "                idx_min = half_steps+j-1\n",
    "                break\n",
    "        \n",
    "        current_min_idx = idx_min\n",
    "        for j in range(1, half_steps):\n",
    "            if matrixI_i[current_min_idx-j] < I_min:\n",
    "                I_min = matrixI_i[current_min_idx-j]\n",
    "            else:\n",
    "                idx_min = current_min_idx-j+1\n",
    "                break\n",
    "        \n",
    "        # Finding the local maximum to the right of this minimum\n",
    "        I_right = matrixI_i[idx_min]\n",
    "        for j in range(1, half_steps):\n",
    "            if matrixI_i[idx_min+j] > I_right:\n",
    "                I_right = matrixI_i[idx_min+j]\n",
    "            else:\n",
    "                idx_right = idx_min+j-1\n",
    "                break\n",
    "            \n",
    "        # Finding the local maximum to the left of this minimum\n",
    "        I_left = matrixI_i[idx_min]\n",
    "        for j in range(1, half_steps):\n",
    "            if matrixI_i[idx_min-j] > I_left:\n",
    "                I_left = matrixI_i[idx_min-j]            \n",
    "            else:\n",
    "                idx_left = idx_min-j+1\n",
    "                break\n",
    "            \n",
    "        # The dip is counted from the lower value between I_left and I_right\n",
    "        if I_left > I_right:\n",
    "            idx_left = idx_left + np.argmin(np.abs(matrixI_i[idx_left:idx_min] - I_right))\n",
    "            I_left = matrixI_i[idx_left]\n",
    "        elif I_left < I_right:\n",
    "            idx_right = idx_min + np.argmin(np.abs(matrixI_i[idx_min:idx_right] - I_left))\n",
    "            I_right = matrixI_i[idx_right]    \n",
    "            \n",
    "        # Shifting the left and right points of consideration to those of value 1\n",
    "        I_left_index = np.argmin(np.abs(matrixI_i[idx_left:idx_min] - 1))\n",
    "        I_left = matrixI_i[idx_left]\n",
    "        I_right_index = np.argmin(np.abs(matrixI_i[idx_min:idx_right] - 1))\n",
    "        I_right = matrixI_i[idx_right]\n",
    "        \n",
    "        I_50left = I_min + (I_left - I_min)/2\n",
    "        I_50right = I_min + (I_right - I_min)/2\n",
    "        \n",
    "        I_50left_index = idx_left + np.argmin(np.abs(matrixI_i[idx_left:idx_min] - I_50left))\n",
    "        x_50left = x_array[I_50left_index]\n",
    "        I_50right_index = idx_min + np.argmin(np.abs(matrixI_i[idx_min:idx_right] - I_50right))\n",
    "        x_50right = x_array[I_50right_index]\n",
    "        resolution_i = x_50right - x_50left\n",
    "        \n",
    "        \n",
    "    resolution_list.append(resolution_i)\n",
    "\n",
    "resolution_list"
   ]
  },
  {
   "cell_type": "markdown",
   "id": "5df94ce9",
   "metadata": {},
   "source": [
    "Plot resolution versus aperture angle"
   ]
  },
  {
   "cell_type": "code",
   "execution_count": 32,
   "id": "7332b1d1",
   "metadata": {},
   "outputs": [
    {
     "data": {
      "image/png": "[encoded data removed]",
      "text/plain": [
       "<Figure size 432x288 with 1 Axes>"
      ]
     },
     "metadata": {
      "needs_background": "light"
     },
     "output_type": "display_data"
    }
   ],
   "source": [
    "plt.plot(alpha_ap_series, resolution_list)\n",
    "plt.xlabel('Aperture angle (mrad)')\n",
    "plt.ylabel('Resolution')\n",
    "plt.title('I(x)')\n",
    "\n",
    "plt.show()"
   ]
  },
  {
   "cell_type": "markdown",
   "id": "1d1a622d",
   "metadata": {},
   "source": [
    "Save this list of resolution into a csv file"
   ]
  },
  {
   "cell_type": "code",
   "execution_count": 30,
   "id": "c15e4202",
   "metadata": {},
   "outputs": [],
   "source": [
    "if aberration_corrected == False:\n",
    "    filename = object_type + '_R(a)_IBM_nac.csv' \n",
    "if aberration_corrected == True:\n",
    "    filename = object_type + '_R(a)_IBM_ac.csv'\n",
    "\n",
    "with open(filename, 'w') as csvfile:\n",
    "    writer = csv.writer(csvfile, delimiter=',')\n",
    "    writer.writerow(['Aperture angle (mrad)', 'Resolution (nm)'])\n",
    "    \n",
    "    for i in range(len(alpha_ap_series)):\n",
    "        writer.writerow([round(alpha_ap_series[i], 3), round(1e9 * resolution_list[i], 10)])\n",
    " \n",
    "    csvfile.close()\n",
    "    \n",
    "with open('data.csv', 'w') as csvfile:\n",
    "    writer = csv.writer(csvfile, delimiter=',')\n",
    "    writer.writerow(['Aperture angle (mrad)', 'Resolution (nm)'])\n",
    "    \n",
    "    for i in range(len(alpha_ap_series)):\n",
    "        writer.writerow([round(alpha_ap_series[i], 3), round(1e9 * resolution_list[i], 10)])\n",
    " \n",
    "    csvfile.close()"
   ]
  },
  {
   "cell_type": "code",
   "execution_count": null,
   "id": "0d8edd39",
   "metadata": {},
   "outputs": [],
   "source": []
  },
  {
   "cell_type": "code",
   "execution_count": null,
   "id": "84224bc4",
   "metadata": {},
   "outputs": [],
   "source": []
  }
 ],
 "metadata": {
  "kernelspec": {
   "display_name": "Python 3 (ipykernel)",
   "language": "python",
   "name": "python3"
  },
  "language_info": {
   "codemirror_mode": {
    "name": "ipython",
    "version": 3
   },
   "file_extension": ".py",
   "mimetype": "text/x-python",
   "name": "python",
   "nbconvert_exporter": "python",
   "pygments_lexer": "ipython3",
   "version": "3.9.12"
  }
 },
 "nbformat": 4,
 "nbformat_minor": 5
}
